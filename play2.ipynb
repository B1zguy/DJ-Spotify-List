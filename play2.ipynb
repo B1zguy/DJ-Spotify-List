{
 "cells": [
  {
   "cell_type": "code",
   "execution_count": 2,
   "metadata": {
    "collapsed": true
   },
   "outputs": [],
   "source": [
    "import pandas as pd\n",
    "import xlwings as xw\n",
    "import d6tjoin.top1\n",
    "import d6tjoin.utils\n",
    "\n",
    "df1 = pd.read_csv('dj-practice-v5.csv')\n",
    "df2 = pd.read_csv('iTunes Catalog Export v2.csv', delimiter='^', names=['Title', 'Artist'])\n"
   ]
  },
  {
   "cell_type": "code",
   "execution_count": 4,
   "outputs": [
    {
     "name": "stdout",
     "output_type": "stream",
     "text": [
      "     key left key right  all matched  inner  left  right  outer  unmatched total  unmatched left  unmatched right\n",
      "0  Track Name     Title        False    159  1010    494   1345             1186             851              335\n",
      "1     __all__   __all__        False    159  1010    495   1346             1187             851              336\n"
     ]
    }
   ],
   "source": [
    "d6tjoin.Prejoin([df1, df2], [['Track Name'], ['Title']]).match_quality()"
   ],
   "metadata": {
    "collapsed": false,
    "pycharm": {
     "name": "#%%\n"
    }
   }
  },
  {
   "cell_type": "code",
   "execution_count": null,
   "outputs": [],
   "source": [],
   "metadata": {
    "collapsed": false,
    "pycharm": {
     "name": "#%%\n"
    }
   }
  }
 ],
 "metadata": {
  "kernelspec": {
   "display_name": "Python 3",
   "language": "python",
   "name": "python3"
  },
  "language_info": {
   "codemirror_mode": {
    "name": "ipython",
    "version": 2
   },
   "file_extension": ".py",
   "mimetype": "text/x-python",
   "name": "python",
   "nbconvert_exporter": "python",
   "pygments_lexer": "ipython2",
   "version": "2.7.6"
  }
 },
 "nbformat": 4,
 "nbformat_minor": 0
}